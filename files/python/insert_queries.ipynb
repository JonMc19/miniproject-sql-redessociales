{
 "cells": [
  {
   "cell_type": "code",
   "execution_count": 1,
   "id": "f3e6dc72",
   "metadata": {},
   "outputs": [],
   "source": [
    "import mysql.connector\n",
    "from mysql.connector import Error\n",
    "from dotenv import load_dotenv\n",
    "import os\n",
    "import pandas as pd\n",
    "\n",
    "import table_functions\n"
   ]
  },
  {
   "cell_type": "markdown",
   "id": "668c7308",
   "metadata": {},
   "source": [
    "#### Cargar conexion"
   ]
  },
  {
   "cell_type": "code",
   "execution_count": 2,
   "id": "2b074a78",
   "metadata": {},
   "outputs": [],
   "source": [
    "# Cargar variables del archivo .env\n",
    "load_dotenv()\n",
    "\n",
    "def get_connection():\n",
    "    try:\n",
    "        connection = mysql.connector.connect(\n",
    "            host=os.getenv(\"DB_HOST\"),\n",
    "            user=os.getenv(\"DB_USER\"),\n",
    "            password=os.getenv(\"DB_PASSWORD\"),\n",
    "            database=os.getenv(\"DB_NAME\"),\n",
    "            auth_plugin='mysql_native_password'\n",
    "        )\n",
    "        print(f\" Conexión realizada a la base de datos {os.getenv('DB_NAME')}.\")\n",
    "        return connection\n",
    "    except mysql.connector.Error as err:\n",
    "        print(\" Error al conectar a la base de datos:\", err)\n",
    "        return None"
   ]
  },
  {
   "cell_type": "code",
   "execution_count": 3,
   "id": "29c726bd",
   "metadata": {},
   "outputs": [
    {
     "name": "stdout",
     "output_type": "stream",
     "text": [
      " Conexión realizada a la base de datos student_menthal_health.\n"
     ]
    }
   ],
   "source": [
    "#Test\n",
    "conn = get_connection()"
   ]
  },
  {
   "cell_type": "code",
   "execution_count": 4,
   "id": "5a06a501",
   "metadata": {},
   "outputs": [],
   "source": [
    "\n",
    "csv_path = \"../csv/students_cleaned.csv\"\n",
    "df=pd.read_csv(csv_path)"
   ]
  },
  {
   "cell_type": "markdown",
   "id": "aa085da1",
   "metadata": {},
   "source": [
    "#### Tabla student\n"
   ]
  },
  {
   "cell_type": "code",
   "execution_count": 6,
   "id": "619b3e45",
   "metadata": {},
   "outputs": [],
   "source": [
    "\n",
    "\n",
    "def insert_students_df(df, conn):\n",
    "    cursor = conn.cursor()\n",
    "    \n",
    "    # Preparar consulta (adaptar columnas a la tabla)\n",
    "    sql = \"\"\"\n",
    "    INSERT INTO student (student_id, gender, age, country) \n",
    "    VALUES (%s, %s, %s, %s)\n",
    "    \"\"\"\n",
    "    \n",
    "    # Convertir DataFrame a lista de tuplas\n",
    "    values = [tuple(x) for x in df.to_numpy()]\n",
    "    \n",
    "    try:\n",
    "        cursor.executemany(sql, values)\n",
    "        conn.commit()\n",
    "        print(f\"{cursor.rowcount} filas insertadas en la tabla student.\")\n",
    "    except mysql.connector.Error as err:\n",
    "        print(f\"Error al insertar datos: {err}\")\n",
    "        conn.rollback()\n",
    "    finally:\n",
    "        cursor.close()\n"
   ]
  },
  {
   "cell_type": "code",
   "execution_count": 10,
   "id": "6662a443",
   "metadata": {},
   "outputs": [
    {
     "name": "stdout",
     "output_type": "stream",
     "text": [
      "✅ Conexión realizada a la base de datos student_menthal_health.\n",
      "Error al insertar datos: 1062 (23000): Duplicate entry '1' for key 'student.PRIMARY'\n"
     ]
    }
   ],
   "source": [
    "from table_functions import table_students\n",
    "\n",
    "# Cargar variables de entorno\n",
    "load_dotenv()\n",
    "\n",
    "conn = get_connection()\n",
    "\n",
    "# Suponiendo que ya tienes el DataFrame base original llamado df_original\n",
    "students_df = table_students(df)\n",
    "\n",
    "# Insertar datos\n",
    "insert_students_df(students_df, conn)\n",
    "\n",
    "conn.close()\n"
   ]
  },
  {
   "cell_type": "markdown",
   "id": "9df209e7",
   "metadata": {},
   "source": [
    "#### tabla socialmedia"
   ]
  },
  {
   "cell_type": "code",
   "execution_count": 11,
   "id": "138a34b8",
   "metadata": {},
   "outputs": [],
   "source": [
    "def insert_social_media_df(df, conn):\n",
    "    cursor = conn.cursor()\n",
    "    \n",
    "    sql = \"\"\"\n",
    "    INSERT INTO social_media (platform_id, name)\n",
    "    VALUES (%s, %s)\n",
    "    \"\"\"\n",
    "    \n",
    "    values = [tuple(row) for row in df.to_numpy()]\n",
    "    \n",
    "    try:\n",
    "        cursor.executemany(sql, values)\n",
    "        conn.commit()\n",
    "        print(f\"{cursor.rowcount} filas insertadas en la tabla social_media.\")\n",
    "    except mysql.connector.Error as err:\n",
    "        print(f\"Error al insertar datos en social_media: {err}\")\n",
    "        conn.rollback()\n",
    "    finally:\n",
    "        cursor.close()\n"
   ]
  },
  {
   "cell_type": "code",
   "execution_count": 12,
   "id": "e56b63ec",
   "metadata": {},
   "outputs": [
    {
     "name": "stdout",
     "output_type": "stream",
     "text": [
      "✅ Conexión realizada a la base de datos student_menthal_health.\n",
      "Error al insertar datos en social_media: 1062 (23000): Duplicate entry '1' for key 'social_media.PRIMARY'\n"
     ]
    }
   ],
   "source": [
    "from table_functions import social_media\n",
    "# Cargar variables de entorno\n",
    "load_dotenv()\n",
    "#Creamos conexión a la base de datos\n",
    "conn = get_connection()\n",
    "\n",
    "social_media_df = social_media(df)\n",
    "\n",
    "# Insertar en la base de datos\n",
    "insert_social_media_df(social_media_df, conn)\n",
    "\n",
    "conn.close()\n"
   ]
  },
  {
   "cell_type": "markdown",
   "id": "eccd0965",
   "metadata": {},
   "source": [
    "#### Tabla marital status\n"
   ]
  },
  {
   "cell_type": "code",
   "execution_count": 13,
   "id": "21694c93",
   "metadata": {},
   "outputs": [],
   "source": [
    "def marital_status_insert(df, conn):\n",
    "    cursor = conn.cursor()\n",
    "    \n",
    "    sql = \"\"\"\n",
    "    INSERT INTO marital_status (marital_id, status_name)\n",
    "    VALUES (%s, %s)\n",
    "    \"\"\"\n",
    "    \n",
    "    values = [tuple(row) for row in df.to_numpy()]\n",
    "    \n",
    "    try:\n",
    "        cursor.executemany(sql, values)\n",
    "        conn.commit()\n",
    "        print(f\"{cursor.rowcount} filas insertadas en la tabla social_media.\")\n",
    "    except mysql.connector.Error as err:\n",
    "        print(f\"Error al insertar datos en social_media: {err}\")\n",
    "        conn.rollback()\n",
    "    finally:\n",
    "        cursor.close()"
   ]
  },
  {
   "cell_type": "code",
   "execution_count": 14,
   "id": "06deb42b",
   "metadata": {},
   "outputs": [
    {
     "name": "stdout",
     "output_type": "stream",
     "text": [
      "✅ Conexión realizada a la base de datos student_menthal_health.\n",
      "Error al insertar datos en social_media: 1062 (23000): Duplicate entry '1' for key 'marital_status.PRIMARY'\n"
     ]
    }
   ],
   "source": [
    "from table_functions import marital_status_ref\n",
    "conn = get_connection()\n",
    "\n",
    "marital_ref_df = marital_status_ref(df)\n",
    "marital_status_insert(marital_ref_df, conn)\n",
    "conn.close()\n"
   ]
  },
  {
   "cell_type": "markdown",
   "id": "6ea819c2",
   "metadata": {},
   "source": [
    "### Tabla platform_use"
   ]
  },
  {
   "cell_type": "code",
   "execution_count": 12,
   "id": "fa38cf3d",
   "metadata": {},
   "outputs": [],
   "source": [
    "def platform_use_insert (df,conn):\n",
    "    cursor = conn.cursor()\n",
    "    \n",
    "    sql =  \"\"\"\n",
    "    INSERT INTO platform_use (platform_id, student_id, avg_use, sleep_time, mental_score, addicted_score)\n",
    "    VALUES (%s, %s, %s, %s, %s, %s)\n",
    "    \"\"\"\n",
    "    values = [tuple(row) for row in df.to_numpy()]\n",
    "    \n",
    "    try:\n",
    "        cursor.executemany(sql, values)\n",
    "        conn.commit()\n",
    "        print(f\"{cursor.rowcount} filas insertadas en la tabla social_media.\")\n",
    "    except mysql.connector.Error as err:\n",
    "        print(f\"Error al insertar datos en social_media: {err}\")\n",
    "        conn.rollback()\n",
    "    finally:\n",
    "        cursor.close()"
   ]
  },
  {
   "cell_type": "code",
   "execution_count": 13,
   "id": "cfe70ce7",
   "metadata": {},
   "outputs": [
    {
     "name": "stdout",
     "output_type": "stream",
     "text": [
      " Conexión realizada a la base de datos student_menthal_health.\n",
      "705 filas insertadas en la tabla social_media.\n"
     ]
    }
   ],
   "source": [
    "from table_functions import table_platform_use\n",
    "conn = get_connection()\n",
    "platform_use_df = table_platform_use(df)\n",
    "platform_use_insert(platform_use_df,conn)\n",
    "conn.close()"
   ]
  },
  {
   "cell_type": "markdown",
   "id": "72b0ecf3",
   "metadata": {},
   "source": [
    "#### Tabla marital student\n"
   ]
  },
  {
   "cell_type": "code",
   "execution_count": 20,
   "id": "36dc04a2",
   "metadata": {},
   "outputs": [],
   "source": [
    "def marital_student_insert (df,conn):\n",
    "    cursor = conn.cursor()\n",
    "    df = df.astype(object)\n",
    "    sql =  \"\"\"\n",
    "    INSERT INTO marital_student (student_id, marital_id, conflicts)\n",
    "    VALUES (%s, %s, %s)\n",
    "    \"\"\"\n",
    "    values = [tuple(row) for row in df.to_numpy()]\n",
    "    \n",
    "    try:\n",
    "        cursor.executemany(sql, values)\n",
    "        conn.commit()\n",
    "        print(f\"{cursor.rowcount} filas insertadas en la tabla.\")\n",
    "    except mysql.connector.Error as err:\n",
    "        print(f\"Error al insertar datos en la tabla: {err}\")\n",
    "        conn.rollback()\n",
    "    finally:\n",
    "        cursor.close()"
   ]
  },
  {
   "cell_type": "code",
   "execution_count": 21,
   "id": "adf8b012",
   "metadata": {},
   "outputs": [
    {
     "name": "stdout",
     "output_type": "stream",
     "text": [
      " Conexión realizada a la base de datos student_menthal_health.\n",
      "705 filas insertadas en la tabla.\n"
     ]
    }
   ],
   "source": [
    "from table_functions import table_marital_students\n",
    "conn = get_connection()\n",
    "marital_student_df = table_marital_students(df)\n",
    "marital_student_insert(marital_student_df,conn)\n",
    "conn.close()"
   ]
  },
  {
   "cell_type": "markdown",
   "id": "a815431b",
   "metadata": {},
   "source": [
    "#### Tabla academic level"
   ]
  },
  {
   "cell_type": "code",
   "execution_count": 22,
   "id": "a76acc0d",
   "metadata": {},
   "outputs": [],
   "source": [
    "def academic_level_insert (df,conn):\n",
    "    cursor = conn.cursor()\n",
    "    df = df.astype(object)\n",
    "    sql =  \"\"\"\n",
    "    INSERT INTO academic_level (level_id, academic_level)\n",
    "    VALUES (%s, %s)\n",
    "    \"\"\"\n",
    "    values = [tuple(row) for row in df.to_numpy()]\n",
    "    \n",
    "    try:\n",
    "        cursor.executemany(sql, values)\n",
    "        conn.commit()\n",
    "        print(f\"{cursor.rowcount} filas insertadas en la tabla.\")\n",
    "    except mysql.connector.Error as err:\n",
    "        print(f\"Error al insertar datos en la tabla: {err}\")\n",
    "        conn.rollback()\n",
    "    finally:\n",
    "        cursor.close()"
   ]
  },
  {
   "cell_type": "code",
   "execution_count": 23,
   "id": "263e249a",
   "metadata": {},
   "outputs": [
    {
     "name": "stdout",
     "output_type": "stream",
     "text": [
      " Conexión realizada a la base de datos student_menthal_health.\n",
      "3 filas insertadas en la tabla.\n"
     ]
    }
   ],
   "source": [
    "from table_functions import table_academic_level\n",
    "conn = get_connection()\n",
    "academic_level_df = table_academic_level(df)\n",
    "academic_level_insert(academic_level_df,conn)\n",
    "conn.close()"
   ]
  },
  {
   "cell_type": "markdown",
   "id": "58b7a9bd",
   "metadata": {},
   "source": [
    "#### Tabla student_acadenic"
   ]
  },
  {
   "cell_type": "code",
   "execution_count": 8,
   "id": "d6d91a34",
   "metadata": {},
   "outputs": [],
   "source": [
    "def student_academic_insert (df,conn):\n",
    "    cursor = conn.cursor()\n",
    "    df = df.astype(object)\n",
    "    sql =  \"\"\"\n",
    "    INSERT INTO student_academic (student_id, level_id, affects)\n",
    "    VALUES (%s, %s, %s)\n",
    "    \"\"\"\n",
    "    values = [tuple(row) for row in df.to_numpy()]\n",
    "    \n",
    "    try:\n",
    "        cursor.executemany(sql, values)\n",
    "        conn.commit()\n",
    "        print(f\"{cursor.rowcount} filas insertadas en la tabla.\")\n",
    "    except mysql.connector.Error as err:\n",
    "        print(f\"Error al insertar datos en la tabla: {err}\")\n",
    "        conn.rollback()\n",
    "    finally:\n",
    "        cursor.close()"
   ]
  },
  {
   "cell_type": "code",
   "execution_count": 10,
   "id": "eda83760",
   "metadata": {},
   "outputs": [
    {
     "name": "stdout",
     "output_type": "stream",
     "text": [
      " Conexión realizada a la base de datos student_menthal_health.\n",
      "705 filas insertadas en la tabla.\n"
     ]
    }
   ],
   "source": [
    "from table_functions import table_student_academic\n",
    "conn = get_connection()\n",
    "student_academic_df = table_student_academic(df)\n",
    "student_academic_insert(student_academic_df,conn)\n",
    "conn.close()"
   ]
  }
 ],
 "metadata": {
  "kernelspec": {
   "display_name": "venv",
   "language": "python",
   "name": "python3"
  },
  "language_info": {
   "codemirror_mode": {
    "name": "ipython",
    "version": 3
   },
   "file_extension": ".py",
   "mimetype": "text/x-python",
   "name": "python",
   "nbconvert_exporter": "python",
   "pygments_lexer": "ipython3",
   "version": "3.12.1"
  }
 },
 "nbformat": 4,
 "nbformat_minor": 5
}
